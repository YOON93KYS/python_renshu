{
 "cells": [
  {
   "cell_type": "code",
   "execution_count": null,
   "outputs": [],
   "source": [
    "#4. 配列\n",
    "'''\n",
    "4-1-2. 実践演習\n",
    "1〜10までをリストに格納し、それぞれの値を2乗した値を出力せよ（目標１０分）\n",
    "'''\n",
    "\n",
    "x = [1,2,3,4,5,6,7,8,9,10]\n",
    "\n",
    "for value in x :\n",
    "    print(value*value)"
   ],
   "metadata": {
    "collapsed": false,
    "pycharm": {
     "name": "#%%\n"
    }
   }
  },
  {
   "cell_type": "code",
   "execution_count": null,
   "outputs": [],
   "source": [
    "#4-2. 辞書構造（dictionary）\n",
    "'''\n",
    "4-2-2. 実践演習\n",
    "下記のdictionaryオブジェクトを使用してそれぞれのkeyとvalueを取得し、valueが20以上の場合{keyの中身}:hotと出力し、超えていない場合は{keyの中身}:coldと出力せよ（目標２０分）\n",
    "'''\n",
    "\n",
    "\n",
    "temperatures  = { 'x': 24 , 'y': 18,   'z': 30}\n",
    "for key, value in temperatures.items():\n",
    "    if value >= 20 :\n",
    "        print((key)+':hot')\n",
    "    else:\n",
    "        print((key)+':cold')\n",
    "\n"
   ],
   "metadata": {
    "collapsed": false,
    "pycharm": {
     "name": "#%%\n"
    }
   }
  },
  {
   "cell_type": "code",
   "execution_count": null,
   "outputs": [],
   "source": [
    "#4-3. 変更を許可しない変数等に使う配列\n",
    "tuple_1 = (1,2,3)\n",
    "# tuple_1.append(4)\n",
    "\n",
    "print(tuple_1)\n",
    "\n",
    "tuple_2 = tuple_1 + (2,3,4)\n",
    "\n",
    "print(tuple_2)"
   ],
   "metadata": {
    "collapsed": false,
    "pycharm": {
     "name": "#%%\n"
    }
   }
  },
  {
   "cell_type": "code",
   "execution_count": null,
   "outputs": [],
   "source": [
    "x,y = (1,2)\n",
    "\n",
    "tuple = (1,2) + (3,4)\n",
    "\n",
    "print(tuple)\n",
    "\n",
    "tuple = (1,2) + (3,4)\n",
    "\n",
    "print(tuple[0])\n"
   ],
   "metadata": {
    "collapsed": false,
    "pycharm": {
     "name": "#%%\n"
    }
   }
  },
  {
   "cell_type": "code",
   "execution_count": null,
   "outputs": [],
   "source": [
    "#4-3-2. 実践演習\n",
    "'''\n",
    "(1,2,3)のタプルの値をx,y,zの変数にそれぞれ格納せよ（目標５分）\n",
    "'''\n",
    "\n",
    "a= (1,2,3)\n",
    "x = a[0]\n",
    "y = a[1]\n",
    "z = a[2]\n",
    "\n",
    "print(x,y,z)\n"
   ],
   "metadata": {
    "collapsed": false,
    "pycharm": {
     "name": "#%%\n"
    }
   }
  },
  {
   "cell_type": "code",
   "execution_count": null,
   "outputs": [],
   "source": [
    "#4-4. 集合演算等に使う配列（set）\n",
    "my_set = set([ 1,2,3,4,5 ])\n",
    "\n",
    "my_set.add(6)\n",
    "# my_set.append(7)\n",
    "\n",
    "my_set.remove(6)\n",
    "print(my_set)\n"
   ],
   "metadata": {
    "collapsed": false,
    "pycharm": {
     "name": "#%%\n"
    }
   }
  },
  {
   "cell_type": "code",
   "execution_count": null,
   "outputs": [],
   "source": [
    "'''\n",
    "4-4-2. 実践演習\n",
    "ランダムに1~100の値を100個生成し、生成された数値を1度ずつ表示せよ。（目標１５分）\n",
    "'''\n",
    "import random\n",
    "\n",
    "for i in range(100):\n",
    "    rand_int =random.randint(1, 100)\n",
    "    print(rand_int)\n"
   ],
   "metadata": {
    "collapsed": false,
    "pycharm": {
     "name": "#%%\n"
    }
   }
  },
  {
   "cell_type": "code",
   "execution_count": null,
   "outputs": [],
   "source": [
    "#4-5. 配列等を処理する関数（map, filter, reduce）\n",
    "#listはそのまま掛け算できないので、mapを使って計算する\n",
    "my_list = [ 1,2,3,4,5 ]\n",
    "new_list= list(map(lambda x: x*2 , my_list))\n",
    "print(new_list) #[2, 4, 6, 8, 10]\n"
   ],
   "metadata": {
    "collapsed": false,
    "pycharm": {
     "name": "#%%\n"
    }
   }
  },
  {
   "cell_type": "code",
   "execution_count": null,
   "outputs": [],
   "source": [
    "'''\n",
    "4-5-2. 実践演習\n",
    "１）ランダムな0~100の数値を20個生成しリストに格納せよ\n",
    "\n",
    "２）リストの中身を2乗せよ（map)\n",
    "\n",
    "３）リストから2000以下の数値を取り出して表示せよ(filter)\n",
    "\n",
    "４）取り出した数値を全て合計して表示せよ(reduce)\n",
    "'''\n",
    "\n",
    "#1)100の数値を20個生成しリストに格納せよ\n",
    "import random\n",
    "a =[]\n",
    "for i in range(20):\n",
    "    rand_int =random.randint(0, 100)\n",
    "    a.append(rand_int)\n",
    "\n",
    "print(a)"
   ],
   "metadata": {
    "collapsed": false,
    "pycharm": {
     "name": "#%%\n"
    }
   }
  },
  {
   "cell_type": "code",
   "execution_count": null,
   "outputs": [],
   "source": [
    "#2)リストの中身を2乗せよ\n",
    "\n",
    "a_2 = list(map(lambda x: x*x , a))\n",
    "print(a_2)\n"
   ],
   "metadata": {
    "collapsed": false,
    "pycharm": {
     "name": "#%%\n"
    }
   }
  },
  {
   "cell_type": "code",
   "execution_count": null,
   "outputs": [],
   "source": [
    "#3)リストから2000以下の数値を取り出して表示せよ\n",
    "\n",
    "a_3 = list(filter(lambda x: x > 2000, a_2))\n",
    "print(a_3)"
   ],
   "metadata": {
    "collapsed": false,
    "pycharm": {
     "name": "#%%\n"
    }
   }
  },
  {
   "cell_type": "code",
   "execution_count": null,
   "outputs": [],
   "source": [
    "#4)取り出した数値を全て合計して表示せよ\n",
    "from functools import reduce\n",
    "from operator import add\n",
    "print(reduce(add, a_3))\n"
   ],
   "metadata": {
    "collapsed": false,
    "pycharm": {
     "name": "#%%\n"
    }
   }
  },
  {
   "cell_type": "code",
   "execution_count": null,
   "outputs": [],
   "source": [
    "#4-6. リストの内包表記\n",
    "'''\n",
    "4-6-2. 実践演習\n",
    "１）ランダムな0~100の数値を10個生成しリストに格納せよ\n",
    "\n",
    "２）それぞれの数値を2乗し、出力せよ\n",
    "\n",
    "'''\n",
    "#1)ランダムな0~100の数値を10個生成しリストに格納せよ\n",
    "import random\n",
    "a =[]\n",
    "for i in range(10):\n",
    "    rand_int =random.randint(0, 100)\n",
    "    a.append(rand_int)"
   ],
   "metadata": {
    "collapsed": false,
    "pycharm": {
     "name": "#%%\n"
    }
   }
  },
  {
   "cell_type": "code",
   "execution_count": null,
   "outputs": [],
   "source": [
    "#2)それぞれの数値を2乗し、出力せよ\n",
    "a_2 = [x*x for x in a]\n",
    "print(a_2) #[8, 10]"
   ],
   "metadata": {
    "collapsed": false,
    "pycharm": {
     "name": "#%%\n"
    }
   }
  },
  {
   "cell_type": "code",
   "execution_count": null,
   "outputs": [],
   "source": [
    "#4-7. 文字列に対する結合・分割\n",
    "'''\n",
    "4-7-2. 実践演習\n",
    "下記のリスト中の文字列をカンマ(,)で結合し結果を表示せよ\n",
    "\n",
    "１）my_list = [‘computer’, ‘tv’, ‘sofa’,’desk’]\n",
    "２）上記の文字列の結果を利用し、文字列リストに戻して出力せよ\n",
    "'''\n",
    "#1)my_list = [‘computer’, ‘tv’, ‘sofa’,’desk’]\n",
    "\n",
    "my_list = ['computer','tv','sofa','desk']\n",
    "\n",
    "my_str = ','.join(my_list)\n",
    "print(my_str)"
   ],
   "metadata": {
    "collapsed": false,
    "pycharm": {
     "name": "#%%\n"
    }
   }
  },
  {
   "cell_type": "code",
   "execution_count": null,
   "outputs": [],
   "source": [
    "#2)上記の文字列の結果を利用し、文字列リストに戻して出力せよ\n",
    "\n",
    "print(my_str.split(','))"
   ],
   "metadata": {
    "collapsed": false,
    "pycharm": {
     "name": "#%%\n"
    }
   }
  }
 ],
 "metadata": {
  "kernelspec": {
   "display_name": "Python 3",
   "language": "python",
   "name": "python3"
  },
  "language_info": {
   "codemirror_mode": {
    "name": "ipython",
    "version": 2
   },
   "file_extension": ".py",
   "mimetype": "text/x-python",
   "name": "python",
   "nbconvert_exporter": "python",
   "pygments_lexer": "ipython2",
   "version": "2.7.6"
  }
 },
 "nbformat": 4,
 "nbformat_minor": 0
}