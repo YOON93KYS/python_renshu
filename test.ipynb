{
 "cells": [
  {
   "cell_type": "code",
   "execution_count": null,
   "outputs": [],
   "source": [
    "print(\"hello worid\")"
   ],
   "metadata": {
    "collapsed": false,
    "pycharm": {
     "name": "#%%\n"
    }
   }
  },
  {
   "cell_type": "code",
   "execution_count": null,
   "outputs": [],
   "source": [
    "'''\n",
    "2-2-2. 実践演習\n",
    "１）実践演習２－１－２で作成したprint文を「#」でコメントアウトして実行せよ\n",
    "*コメントアウト：コメントするだけ、メモ用途として使う\n",
    "２）実践演習２－１－２で作成したprint文を「クォーテーション（’）」でコメントアウトして実行せよ\n",
    "'''\n"
   ],
   "metadata": {
    "collapsed": false,
    "pycharm": {
     "name": "#%%\n"
    }
   }
  },
  {
   "cell_type": "code",
   "execution_count": null,
   "outputs": [],
   "source": [
    "#2-2-2-1\n",
    "#print(\"#hello worid\")\n"
   ],
   "metadata": {
    "collapsed": false,
    "pycharm": {
     "name": "#%%\n"
    }
   }
  },
  {
   "cell_type": "code",
   "execution_count": null,
   "outputs": [],
   "source": [
    "#2-2-2-2\n",
    "'''\n",
    "print(\"#hello worid\")\n",
    "'''"
   ],
   "metadata": {
    "collapsed": false,
    "pycharm": {
     "name": "#%%\n"
    }
   }
  },
  {
   "cell_type": "code",
   "execution_count": null,
   "outputs": [],
   "source": [
    "#3-1-1\n",
    "my_var = 16\n",
    "my_var_2 = 12.16\n",
    "my_var_3 = 1.216E1\n",
    "print(my_var,my_var_2,my_var_3)"
   ],
   "metadata": {
    "collapsed": false,
    "pycharm": {
     "name": "#%%\n"
    }
   }
  },
  {
   "cell_type": "code",
   "execution_count": null,
   "outputs": [],
   "source": [
    "'''\n",
    "#3-1-2\n",
    "\n",
    "１）変数xに300を入れ、その変数を出力せよ\n",
    "\n",
    "２）変数xに3.14を入れて、その変数を出力せよ\n",
    "\n",
    "（目標１５分）\n",
    "'''\n",
    "#１）変数xに300を入れ、その変数を出力せよ\n",
    "x= 300\n",
    "print(x)\n",
    "#２）変数xに3.14を入れて、その変数を出力せよ\n",
    "x_2 = 3.14\n",
    "print(x_2)\n",
    "x_3 = 0.314E1\n",
    "print(x_3)"
   ],
   "metadata": {
    "collapsed": false,
    "pycharm": {
     "name": "#%%\n"
    }
   }
  },
  {
   "cell_type": "code",
   "execution_count": null,
   "outputs": [],
   "source": [
    "'''\n",
    "3-2-2. 実践演習\n",
    "１）変数xに「こんにちは」という文字入れ、その変数を出力せよ\n",
    "\n",
    "２）変数xにTrueを入れ、その変数を出力せよ\n",
    "'''\n",
    "\n",
    "a = \"こんにちは\"\n",
    "a_2 = 'こんにちは'\n",
    "a_3 = True\n",
    "print(a,a_2,a_3)"
   ],
   "metadata": {
    "collapsed": false,
    "pycharm": {
     "name": "#%%\n"
    }
   }
  },
  {
   "cell_type": "code",
   "execution_count": null,
   "outputs": [],
   "source": [
    "'''\n",
    "3-3. 代数演算子(+,-,*,/)\n",
    "加算 　 (5+2 #7)\n",
    "x – y : 引き算 　(5-2 #3)\n",
    "x * y : 乗算 　(5*2 #10)\n",
    "x / y : 除算 　(5/2 #2.5)\n",
    "x % y : xをyで割った残余 　(5%2 #1)\n",
    "x ** y : xのy乗　　(5**2 #25)\n",
    "x // y : 切り捨て除算 　(5//2 #2)\n",
    "'''\n",
    "x = 7\n",
    "y = 3\n",
    "print(x/y)"
   ],
   "metadata": {
    "collapsed": false,
    "pycharm": {
     "name": "#%%\n"
    }
   }
  },
  {
   "cell_type": "code",
   "execution_count": null,
   "outputs": [],
   "source": [
    "#3-4. ブール演算子(and・ or ・not)\n",
    "\n",
    "x = 10\n",
    "if x >9  and x < 11:\n",
    "    print(x)\n",
    "\n",
    "\n",
    "\n"
   ],
   "metadata": {
    "collapsed": false,
    "pycharm": {
     "name": "#%%\n"
    }
   }
  },
  {
   "cell_type": "code",
   "execution_count": null,
   "outputs": [],
   "source": [
    "x = 23\n",
    "if x >10 or x == 100:\n",
    "    print(x)\n",
    "\n",
    "\n"
   ],
   "metadata": {
    "collapsed": false,
    "pycharm": {
     "name": "#%%\n"
    }
   }
  },
  {
   "cell_type": "code",
   "execution_count": null,
   "outputs": [],
   "source": [
    "x= 33\n",
    "if not x ==100:\n",
    "    print(x)\n"
   ],
   "metadata": {
    "collapsed": false,
    "pycharm": {
     "name": "#%%\n"
    }
   }
  },
  {
   "cell_type": "code",
   "execution_count": null,
   "outputs": [],
   "source": [
    "#3-4-2. 実践演習\n",
    "import random\n",
    "rand_int = random.randint(0, 100) #0 ~ 100\n",
    "'''\n",
    "１）数型の変数をランダムに生成し、その変数を2で割った余りが０の場合、「偶数です」を出力し、残余が０じゃない場合は「偶数ではありません」を出力せよ\n",
    "\n",
    "２）数型の変数をランダムに生成し、その変数が０以上49以下の場合変数の値を出力せよ\n",
    "\n",
    "'''\n",
    "#1)\n",
    "if rand_int%2 == 0 :\n",
    "    print(\"偶数です\")\n",
    "else:\n",
    "    print(\"偶数ではありません\")\n",
    ";"
   ],
   "metadata": {
    "collapsed": false,
    "pycharm": {
     "name": "#%%\n"
    }
   }
  },
  {
   "cell_type": "code",
   "execution_count": null,
   "outputs": [],
   "source": [
    "#2)\n",
    "rand_int_2 = random.randint(0, 100) #0 ~ 100\n",
    "if rand_int_2 >= 0 and rand_int_2 <= 49:\n",
    "    print(rand_int_2)\n",
    "else:\n",
    "    print(\"over\")\n",
    "\n",
    "\n"
   ],
   "metadata": {
    "collapsed": false,
    "pycharm": {
     "name": "#%%\n"
    }
   }
  },
  {
   "cell_type": "code",
   "execution_count": null,
   "outputs": [],
   "source": [
    "#3-5. 条件分岐（if文)\n",
    "rand_int_3 = random.randint(0, 100) #0 ~ 100\n",
    "if rand_int_3 > 0 :\n",
    "    print(\"正の整数です\")\n",
    "elif rand_int_3 < 0 :\n",
    "    print(\"負の整数です\")\n",
    "else:\n",
    "    print(\"0です。\")\n"
   ],
   "metadata": {
    "collapsed": false,
    "pycharm": {
     "name": "#%%\n"
    }
   }
  },
  {
   "cell_type": "code",
   "execution_count": null,
   "outputs": [],
   "source": [
    "#3-5-2. 実践演習\n",
    "'''\n",
    "my_varの中にランダムな0~100の数値を入れる。\n",
    "my_varが80以上の場合、２倍した値を出力\n",
    "my_varが50未満の場合、1/2倍した値を出力\n",
    "my_varが2,3の条件に当てはまらない場合、「0」を出力\n",
    "'''\n",
    "#3-5-3. 解答（Python コード サンプル／プログラム例）\n",
    "rand_int_4 = random.randint(0, 100)\n",
    "if rand_int_4 >= 80 :\n",
    "    print(rand_int_4*2)\n",
    "elif rand_int_4 < 50 :\n",
    "    print(rand_int_4/2)\n",
    "else:\n",
    "    print(0)"
   ],
   "metadata": {
    "collapsed": false,
    "pycharm": {
     "name": "#%%\n"
    }
   }
  },
  {
   "cell_type": "code",
   "execution_count": null,
   "outputs": [],
   "source": [
    "#3-6. 指定回数を繰り返す処理（for文）\n",
    "\n",
    "\n",
    "\n",
    "\n"
   ],
   "metadata": {
    "collapsed": false,
    "pycharm": {
     "name": "#%%\n"
    }
   }
  },
  {
   "cell_type": "code",
   "execution_count": null,
   "outputs": [],
   "source": [
    "#4. 配列\n",
    "'''\n",
    "4-1-2. 実践演習\n",
    "1〜10までをリストに格納し、それぞれの値を2乗した値を出力せよ（目標１０分）\n",
    "'''\n",
    "\n",
    "x = [1,2,3,4,5,6,7,8,9,10]\n",
    "\n",
    "for value in x :\n",
    "    print(value*value)"
   ],
   "metadata": {
    "collapsed": false,
    "pycharm": {
     "name": "#%%\n"
    }
   }
  },
  {
   "cell_type": "code",
   "execution_count": null,
   "outputs": [],
   "source": [
    "#4-2. 辞書構造（dictionary）\n",
    "'''\n",
    "4-2-2. 実践演習\n",
    "下記のdictionaryオブジェクトを使用してそれぞれのkeyとvalueを取得し、valueが20以上の場合{keyの中身}:hotと出力し、超えていない場合は{keyの中身}:coldと出力せよ（目標２０分）\n",
    "'''\n",
    "\n",
    "\n",
    "temperatures  = { 'x': 24 , 'y': 18,   'z': 30}\n",
    "for key, value in temperatures.items():\n",
    "    if value >= 20 :\n",
    "        print((key)+':hot')\n",
    "    else:\n",
    "        print((key)+':cold')\n",
    "\n"
   ],
   "metadata": {
    "collapsed": false,
    "pycharm": {
     "name": "#%%\n"
    }
   }
  },
  {
   "cell_type": "code",
   "execution_count": null,
   "outputs": [],
   "source": [
    "#4-3. 変更を許可しない変数等に使う配列\n",
    "tuple_1 = (1,2,3)\n",
    "# tuple_1.append(4)\n",
    "\n",
    "print(tuple_1)\n",
    "\n",
    "tuple_2 = tuple_1 + (2,3,4)\n",
    "\n",
    "print(tuple_2)"
   ],
   "metadata": {
    "collapsed": false,
    "pycharm": {
     "name": "#%%\n"
    }
   }
  },
  {
   "cell_type": "code",
   "execution_count": null,
   "outputs": [],
   "source": [
    "x,y = (1,2)\n",
    "\n",
    "tuple = (1,2) + (3,4)\n",
    "\n",
    "print(tuple)\n",
    "\n",
    "tuple = (1,2) + (3,4)\n",
    "\n",
    "print(tuple[0])\n"
   ],
   "metadata": {
    "collapsed": false,
    "pycharm": {
     "name": "#%%\n"
    }
   }
  },
  {
   "cell_type": "code",
   "execution_count": null,
   "outputs": [],
   "source": [
    "#4-3-2. 実践演習\n",
    "'''\n",
    "(1,2,3)のタプルの値をx,y,zの変数にそれぞれ格納せよ（目標５分）\n",
    "'''\n",
    "\n",
    "a= (1,2,3)\n",
    "x = a[0]\n",
    "y = a[1]\n",
    "z = a[2]\n",
    "\n",
    "print(x,y,z)\n"
   ],
   "metadata": {
    "collapsed": false,
    "pycharm": {
     "name": "#%%\n"
    }
   }
  },
  {
   "cell_type": "code",
   "execution_count": null,
   "outputs": [],
   "source": [
    "#4-4. 集合演算等に使う配列（set）\n",
    "my_set = set([ 1,2,3,4,5 ])\n",
    "\n",
    "my_set.add(6)\n",
    "# my_set.append(7)\n",
    "\n",
    "my_set.remove(6)\n",
    "print(my_set)\n"
   ],
   "metadata": {
    "collapsed": false,
    "pycharm": {
     "name": "#%%\n"
    }
   }
  },
  {
   "cell_type": "code",
   "execution_count": null,
   "outputs": [],
   "source": [
    "'''\n",
    "4-4-2. 実践演習\n",
    "ランダムに1~100の値を100個生成し、生成された数値を1度ずつ表示せよ。（目標１５分）\n",
    "'''\n",
    "import random\n",
    "\n",
    "for i in range(100):\n",
    "    rand_int =random.randint(1, 100)\n",
    "    print(rand_int)\n"
   ],
   "metadata": {
    "collapsed": false,
    "pycharm": {
     "name": "#%%\n"
    }
   }
  },
  {
   "cell_type": "code",
   "execution_count": 45,
   "outputs": [
    {
     "name": "stdout",
     "output_type": "stream",
     "text": [
      "[2, 4, 6, 8, 10]\n"
     ]
    }
   ],
   "source": [
    "#4-5. 配列等を処理する関数（map, filter, reduce）\n",
    "#listはそのまま掛け算できないので、mapを使って計算する\n",
    "my_list = [ 1,2,3,4,5 ]\n",
    "new_list= list(map(lambda x: x*2 , my_list))\n",
    "print(new_list) #[2, 4, 6, 8, 10]\n"
   ],
   "metadata": {
    "collapsed": false,
    "pycharm": {
     "name": "#%%\n"
    }
   }
  },
  {
   "cell_type": "code",
   "execution_count": 59,
   "outputs": [
    {
     "name": "stdout",
     "output_type": "stream",
     "text": [
      "[28, 43, 7, 81, 34, 85, 51, 42, 50, 34, 4, 11, 17, 97, 98, 42, 82, 20, 18, 45]\n"
     ]
    }
   ],
   "source": [
    "'''\n",
    "4-5-2. 実践演習\n",
    "１）ランダムな0~100の数値を20個生成しリストに格納せよ\n",
    "\n",
    "２）リストの中身を2乗せよ（map)\n",
    "\n",
    "３）リストから2000以下の数値を取り出して表示せよ(filter)\n",
    "\n",
    "４）取り出した数値を全て合計して表示せよ(reduce)\n",
    "'''\n",
    "\n",
    "#1)100の数値を20個生成しリストに格納せよ\n",
    "import random\n",
    "a =[]\n",
    "for i in range(20):\n",
    "    rand_int =random.randint(0, 100)\n",
    "    a.append(rand_int)\n",
    "\n",
    "print(a)"
   ],
   "metadata": {
    "collapsed": false,
    "pycharm": {
     "name": "#%%\n"
    }
   }
  },
  {
   "cell_type": "code",
   "execution_count": 53,
   "outputs": [
    {
     "name": "stdout",
     "output_type": "stream",
     "text": [
      "[529, 169, 4624, 4761, 3844, 9801, 121, 441, 1444, 900, 9025, 6084, 3969, 576, 1936, 9801, 9604, 7569, 5929, 4356]\n"
     ]
    }
   ],
   "source": [
    "#2)リストの中身を2乗せよ\n",
    "\n",
    "a_2 = list(map(lambda x: x*x , a))\n",
    "print(a_2)\n"
   ],
   "metadata": {
    "collapsed": false,
    "pycharm": {
     "name": "#%%\n"
    }
   }
  },
  {
   "cell_type": "code",
   "execution_count": 55,
   "outputs": [
    {
     "name": "stdout",
     "output_type": "stream",
     "text": [
      "[4624, 4761, 3844, 9801, 9025, 6084, 3969, 9801, 9604, 7569, 5929, 4356]\n"
     ]
    }
   ],
   "source": [
    "#3)リストから2000以下の数値を取り出して表示せよ\n",
    "\n",
    "a_3 = list(filter(lambda x: x > 2000, a_2))\n",
    "print(a_3)"
   ],
   "metadata": {
    "collapsed": false,
    "pycharm": {
     "name": "#%%\n"
    }
   }
  },
  {
   "cell_type": "code",
   "execution_count": 2,
   "outputs": [
    {
     "ename": "NameError",
     "evalue": "name 'a_3' is not defined",
     "output_type": "error",
     "traceback": [
      "\u001B[0;31m---------------------------------------------------------------------------\u001B[0m",
      "\u001B[0;31mNameError\u001B[0m                                 Traceback (most recent call last)",
      "\u001B[0;32m<ipython-input-2-81e033ebf70b>\u001B[0m in \u001B[0;36m<module>\u001B[0;34m\u001B[0m\n\u001B[1;32m      2\u001B[0m \u001B[0;32mfrom\u001B[0m \u001B[0mfunctools\u001B[0m \u001B[0;32mimport\u001B[0m \u001B[0mreduce\u001B[0m\u001B[0;34m\u001B[0m\u001B[0m\n\u001B[1;32m      3\u001B[0m \u001B[0;32mfrom\u001B[0m \u001B[0moperator\u001B[0m \u001B[0;32mimport\u001B[0m \u001B[0madd\u001B[0m\u001B[0;34m\u001B[0m\u001B[0m\n\u001B[0;32m----> 4\u001B[0;31m \u001B[0mprint\u001B[0m\u001B[0;34m(\u001B[0m\u001B[0mreduce\u001B[0m\u001B[0;34m(\u001B[0m\u001B[0madd\u001B[0m\u001B[0;34m,\u001B[0m \u001B[0ma_3\u001B[0m\u001B[0;34m)\u001B[0m\u001B[0;34m)\u001B[0m\u001B[0;34m\u001B[0m\u001B[0m\n\u001B[0m\u001B[1;32m      5\u001B[0m \u001B[0;34m\u001B[0m\u001B[0m\n\u001B[1;32m      6\u001B[0m \u001B[0;34m\u001B[0m\u001B[0m\n",
      "\u001B[0;31mNameError\u001B[0m: name 'a_3' is not defined"
     ]
    }
   ],
   "source": [
    "#4)取り出した数値を全て合計して表示せよ\n",
    "from functools import reduce\n",
    "from operator import add\n",
    "print(reduce(add, a_3))\n"
   ],
   "metadata": {
    "collapsed": false,
    "pycharm": {
     "name": "#%%\n"
    }
   }
  },
  {
   "cell_type": "code",
   "execution_count": 5,
   "outputs": [],
   "source": [
    "#4-6. リストの内包表記\n",
    "'''\n",
    "4-6-2. 実践演習\n",
    "１）ランダムな0~100の数値を10個生成しリストに格納せよ\n",
    "\n",
    "２）それぞれの数値を2乗し、出力せよ\n",
    "\n",
    "'''\n",
    "#1)ランダムな0~100の数値を10個生成しリストに格納せよ\n",
    "import random\n",
    "a =[]\n",
    "for i in range(10):\n",
    "    rand_int =random.randint(0, 100)\n",
    "    a.append(rand_int)"
   ],
   "metadata": {
    "collapsed": false,
    "pycharm": {
     "name": "#%%\n"
    }
   }
  },
  {
   "cell_type": "code",
   "execution_count": 7,
   "outputs": [
    {
     "name": "stdout",
     "output_type": "stream",
     "text": [
      "[3969, 4225, 6241, 9801, 3249, 9216, 1369, 6724, 5625, 400]\n"
     ]
    }
   ],
   "source": [
    "#2)それぞれの数値を2乗し、出力せよ\n",
    "a_2 = [x*x for x in a]\n",
    "print(a_2) #[8, 10]"
   ],
   "metadata": {
    "collapsed": false,
    "pycharm": {
     "name": "#%%\n"
    }
   }
  },
  {
   "cell_type": "code",
   "execution_count": 32,
   "outputs": [
    {
     "name": "stdout",
     "output_type": "stream",
     "text": [
      "computer,tv,sofa,desk\n"
     ]
    }
   ],
   "source": [
    "#4-7. 文字列に対する結合・分割\n",
    "'''\n",
    "4-7-2. 実践演習\n",
    "下記のリスト中の文字列をカンマ(,)で結合し結果を表示せよ\n",
    "\n",
    "１）my_list = [‘computer’, ‘tv’, ‘sofa’,’desk’]\n",
    "２）上記の文字列の結果を利用し、文字列リストに戻して出力せよ\n",
    "'''\n",
    "#1)my_list = [‘computer’, ‘tv’, ‘sofa’,’desk’]\n",
    "\n",
    "my_list = ['computer','tv','sofa','desk']\n",
    "\n",
    "my_str = ','.join(my_list)\n",
    "print(my_str)"
   ],
   "metadata": {
    "collapsed": false,
    "pycharm": {
     "name": "#%%\n"
    }
   }
  },
  {
   "cell_type": "code",
   "execution_count": 57,
   "outputs": [
    {
     "name": "stdout",
     "output_type": "stream",
     "text": [
      "['computer', 'tv', 'sofa', 'desk']\n"
     ]
    }
   ],
   "source": [
    "#2)上記の文字列の結果を利用し、文字列リストに戻して出力せよ\n",
    "\n",
    "print(my_str.split(','))"
   ],
   "metadata": {
    "collapsed": false,
    "pycharm": {
     "name": "#%%\n"
    }
   }
  },
  {
   "cell_type": "code",
   "execution_count": 62,
   "outputs": [
    {
     "name": "stdout",
     "output_type": "stream",
     "text": [
      "15\n"
     ]
    }
   ],
   "source": [
    "#5-1. 関数\n",
    "\n",
    "'''\n",
    "5-1-2. 実践演習\n",
    "addという関数を定義し、関数内で５と１０を足した結果を出力するようにせよ。\n",
    "（ただし実行はしなくてよい。）\n",
    "\n",
    "（目標１０分）\n",
    "'''\n",
    "def add():\n",
    "    print(5+10)\n",
    "\n",
    "add()"
   ],
   "metadata": {
    "collapsed": false,
    "pycharm": {
     "name": "#%%\n"
    }
   }
  },
  {
   "cell_type": "code",
   "execution_count": 64,
   "outputs": [
    {
     "name": "stdout",
     "output_type": "stream",
     "text": [
      "15\n"
     ]
    }
   ],
   "source": [
    "# 5-2. 呼び出し方\n",
    "'''\n",
    "5-2-2. 実践演習\n",
    "５－１－２の関数(def)で定義したadd関数を呼び出せ（目標１０分）\n",
    "'''\n",
    "add()\n"
   ],
   "metadata": {
    "collapsed": false,
    "pycharm": {
     "name": "#%%\n"
    }
   }
  },
  {
   "cell_type": "code",
   "execution_count": 68,
   "outputs": [
    {
     "name": "stdout",
     "output_type": "stream",
     "text": [
      "15\n"
     ]
    }
   ],
   "source": [
    "#5-3. 引数\n",
    "\n",
    "\n",
    "'''\n",
    "5-3-2. 実践演習\n",
    "１）５－１－２の関数(def)で定義したadd関数でnum_1とnum_2という数型の引数を受け取り、渡したnum_1とnum_2を足すように変更せよ\n",
    "\n",
    "２）add関数に10,20を渡し、30が出力されることを確認せよ\n",
    "\n",
    "（目標２０分）\n",
    "'''\n",
    "#１）５－１－２の関数(def)で定義したadd関数でnum_1とnum_2という数型の引数を受け取り、渡したnum_1とnum_2を足すように変更せよ\n",
    "\n",
    "def add_2(a,b):\n",
    "    print(a+b)\n",
    "\n",
    "add_2(10,5)"
   ],
   "metadata": {
    "collapsed": false,
    "pycharm": {
     "name": "#%%\n"
    }
   }
  },
  {
   "cell_type": "code",
   "execution_count": 70,
   "outputs": [
    {
     "name": "stdout",
     "output_type": "stream",
     "text": [
      "30\n"
     ]
    }
   ],
   "source": [
    "#２）add関数に10,20を渡し、30が出力されることを確認せよ\n",
    "\n",
    "add_2(10,20)\n"
   ],
   "metadata": {
    "collapsed": false,
    "pycharm": {
     "name": "#%%\n"
    }
   }
  },
  {
   "cell_type": "code",
   "execution_count": 78,
   "outputs": [
    {
     "name": "stdout",
     "output_type": "stream",
     "text": [
      "30\n"
     ]
    }
   ],
   "source": [
    "#5-4. 戻り値\n",
    "'''\n",
    "5-4-2. 実践演習\n",
    "１）５－３－２の関数(def)で定義したadd関数でnum_1とnum_2を足した値を返すように変更せよ\n",
    "\n",
    "２）add関数に10,20を渡して戻り値を受け取り、出力せよ\n",
    "\n",
    "（目標２０分）\n",
    "'''\n",
    "#１）５－３－２の関数(def)で定義したadd関数でnum_1とnum_2を足した値を返すように変更せよ\n",
    "def add_3(num_1,num_2):\n",
    "    return(num_1 + num_2)\n",
    "#２）add関数に10,20を渡して戻り値を受け取り、出力せよ\n",
    "print(add_3(10,20))"
   ],
   "metadata": {
    "collapsed": false,
    "pycharm": {
     "name": "#%%\n"
    }
   }
  },
  {
   "cell_type": "code",
   "execution_count": 94,
   "outputs": [
    {
     "name": "stdout",
     "output_type": "stream",
     "text": [
      "16\n"
     ]
    }
   ],
   "source": [
    "#5-6. 例外処理\n",
    "\n",
    "'''\n",
    "5-6-2. 実践演習\n",
    "実践演習５－３－２で作成したadd関数は引数が数値でなかった場合に例外を発生する可能性があるため、\n",
    "その場合は0を返すようにせよ（目標１０分）\n",
    "'''\n",
    "\n",
    "def add_2(aa,bb):\n",
    "    try:\n",
    "        print(aa+bb)\n",
    "    except:\n",
    "        print(0)\n",
    "\n",
    "add_2(10,6)"
   ],
   "metadata": {
    "collapsed": false,
    "pycharm": {
     "name": "#%%\n"
    }
   }
  }
 ],
 "metadata": {
  "kernelspec": {
   "display_name": "Python 3",
   "language": "python",
   "name": "python3"
  },
  "language_info": {
   "codemirror_mode": {
    "name": "ipython",
    "version": 3
   },
   "file_extension": ".py",
   "mimetype": "text/x-python",
   "name": "python",
   "nbconvert_exporter": "python",
   "pygments_lexer": "ipython3",
   "version": "3.6.0"
  }
 },
 "nbformat": 4,
 "nbformat_minor": 2
}