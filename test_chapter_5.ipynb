{
 "cells": [
  {
   "cell_type": "code",
   "execution_count": null,
   "outputs": [],
   "source": [
    "#5-1. 関数\n",
    "\n",
    "'''\n",
    "5-1-2. 実践演習\n",
    "addという関数を定義し、関数内で５と１０を足した結果を出力するようにせよ。\n",
    "（ただし実行はしなくてよい。）\n",
    "\n",
    "（目標１０分）\n",
    "'''\n",
    "def add():\n",
    "    print(5+10)\n",
    "\n",
    "add()"
   ],
   "metadata": {
    "collapsed": false,
    "pycharm": {
     "name": "#%%\n"
    }
   }
  },
  {
   "cell_type": "code",
   "execution_count": null,
   "outputs": [],
   "source": [
    "# 5-2. 呼び出し方\n",
    "'''\n",
    "5-2-2. 実践演習\n",
    "５－１－２の関数(def)で定義したadd関数を呼び出せ（目標１０分）\n",
    "'''\n",
    "add()"
   ],
   "metadata": {
    "collapsed": false,
    "pycharm": {
     "name": "#%%\n"
    }
   }
  },
  {
   "cell_type": "code",
   "execution_count": null,
   "outputs": [],
   "source": [
    "#5-3. 引数\n",
    "\n",
    "\n",
    "'''\n",
    "5-3-2. 実践演習\n",
    "１）５－１－２の関数(def)で定義したadd関数でnum_1とnum_2という数型の引数を受け取り、渡したnum_1とnum_2を足すように変更せよ\n",
    "\n",
    "２）add関数に10,20を渡し、30が出力されることを確認せよ\n",
    "\n",
    "（目標２０分）\n",
    "'''\n",
    "#１）５－１－２の関数(def)で定義したadd関数でnum_1とnum_2という数型の引数を受け取り、渡したnum_1とnum_2を足すように変更せよ\n",
    "\n",
    "def add_2(a,b):\n",
    "    print(a+b)\n",
    "\n",
    "add_2(10,5)"
   ],
   "metadata": {
    "collapsed": false,
    "pycharm": {
     "name": "#%%\n"
    }
   }
  },
  {
   "cell_type": "code",
   "execution_count": null,
   "outputs": [],
   "source": [
    "#２）add関数に10,20を渡し、30が出力されることを確認せよ\n",
    "\n",
    "add_2(10,20)\n"
   ],
   "metadata": {
    "collapsed": false,
    "pycharm": {
     "name": "#%%\n"
    }
   }
  },
  {
   "cell_type": "code",
   "execution_count": null,
   "outputs": [],
   "source": [
    "#5-4. 戻り値\n",
    "'''\n",
    "5-4-2. 実践演習\n",
    "１）５－３－２の関数(def)で定義したadd関数でnum_1とnum_2を足した値を返すように変更せよ\n",
    "\n",
    "２）add関数に10,20を渡して戻り値を受け取り、出力せよ\n",
    "\n",
    "（目標２０分）\n",
    "'''\n",
    "#１）５－３－２の関数(def)で定義したadd関数でnum_1とnum_2を足した値を返すように変更せよ\n",
    "def add_3(num_1,num_2):\n",
    "    return(num_1 + num_2)\n",
    "#２）add関数に10,20を渡して戻り値を受け取り、出力せよ\n",
    "print(add_3(10,20))"
   ],
   "metadata": {
    "collapsed": false,
    "pycharm": {
     "name": "#%%\n"
    }
   }
  },
  {
   "cell_type": "code",
   "execution_count": null,
   "outputs": [],
   "source": [
    "#5-6. 例外処理\n",
    "\n",
    "'''\n",
    "5-6-2. 実践演習\n",
    "実践演習５－３－２で作成したadd関数は引数が数値でなかった場合に例外を発生する可能性があるため、\n",
    "その場合は0を返すようにせよ（目標１０分）\n",
    "'''\n",
    "\n",
    "def add_2(aa,bb):\n",
    "    try:\n",
    "        print(aa+bb)\n",
    "    except:\n",
    "        print(0)"
   ],
   "metadata": {
    "collapsed": false,
    "pycharm": {
     "name": "#%%\n"
    }
   }
  },
  {
   "cell_type": "code",
   "execution_count": null,
   "outputs": [],
   "source": [
    "#5-1. 関数\n",
    "\n",
    "'''\n",
    "5-1-2. 実践演習\n",
    "addという関数を定義し、関数内で５と１０を足した結果を出力するようにせよ。\n",
    "（ただし実行はしなくてよい。）\n",
    "\n",
    "（目標１０分）\n",
    "'''\n",
    "def add():\n",
    "    print(5+10)\n",
    "\n",
    "add()"
   ],
   "metadata": {
    "collapsed": false,
    "pycharm": {
     "name": "#%%\n"
    }
   }
  },
  {
   "cell_type": "code",
   "execution_count": null,
   "outputs": [],
   "source": [
    "# 5-2. 呼び出し方\n",
    "'''\n",
    "5-2-2. 実践演習\n",
    "５－１－２の関数(def)で定義したadd関数を呼び出せ（目標１０分）\n",
    "'''\n",
    "add()"
   ],
   "metadata": {
    "collapsed": false,
    "pycharm": {
     "name": "#%%\n"
    }
   }
  },
  {
   "cell_type": "code",
   "execution_count": null,
   "outputs": [],
   "source": [
    "#5-3. 引数\n",
    "\n",
    "\n",
    "'''\n",
    "5-3-2. 実践演習\n",
    "１）５－１－２の関数(def)で定義したadd関数でnum_1とnum_2という数型の引数を受け取り、渡したnum_1とnum_2を足すように変更せよ\n",
    "\n",
    "２）add関数に10,20を渡し、30が出力されることを確認せよ\n",
    "\n",
    "（目標２０分）\n",
    "'''\n",
    "#１）５－１－２の関数(def)で定義したadd関数でnum_1とnum_2という数型の引数を受け取り、渡したnum_1とnum_2を足すように変更せよ\n",
    "\n",
    "def add_2(a,b):\n",
    "    print(a+b)\n",
    "\n",
    "add_2(10,5)"
   ],
   "metadata": {
    "collapsed": false,
    "pycharm": {
     "name": "#%%\n"
    }
   }
  },
  {
   "cell_type": "code",
   "execution_count": null,
   "outputs": [],
   "source": [
    "#２）add関数に10,20を渡し、30が出力されることを確認せよ\n",
    "\n",
    "add_2(10,20)\n"
   ],
   "metadata": {
    "collapsed": false,
    "pycharm": {
     "name": "#%%\n"
    }
   }
  },
  {
   "cell_type": "code",
   "execution_count": null,
   "outputs": [],
   "source": [
    "#5-4. 戻り値\n",
    "'''\n",
    "5-4-2. 実践演習\n",
    "１）５－３－２の関数(def)で定義したadd関数でnum_1とnum_2を足した値を返すように変更せよ\n",
    "\n",
    "２）add関数に10,20を渡して戻り値を受け取り、出力せよ\n",
    "\n",
    "（目標２０分）\n",
    "'''\n",
    "#１）５－３－２の関数(def)で定義したadd関数でnum_1とnum_2を足した値を返すように変更せよ\n",
    "def add_3(num_1,num_2):\n",
    "    return(num_1 + num_2)\n",
    "#２）add関数に10,20を渡して戻り値を受け取り、出力せよ\n",
    "print(add_3(10,20))"
   ],
   "metadata": {
    "collapsed": false,
    "pycharm": {
     "name": "#%%\n"
    }
   }
  },
  {
   "cell_type": "code",
   "execution_count": null,
   "outputs": [],
   "source": [
    "#5-6. 例外処理\n",
    "\n",
    "'''\n",
    "5-6-2. 実践演習\n",
    "実践演習５－３－２で作成したadd関数は引数が数値でなかった場合に例外を発生する可能性があるため、\n",
    "その場合は0を返すようにせよ（目標１０分）\n",
    "'''\n",
    "\n",
    "def add_2(aa,bb):\n",
    "    try:\n",
    "        print(aa+bb)\n",
    "    except:\n",
    "        print(0)"
   ],
   "metadata": {
    "collapsed": false,
    "pycharm": {
     "name": "#%%\n"
    }
   }
  }
 ],
 "metadata": {
  "kernelspec": {
   "display_name": "Python 3",
   "language": "python",
   "name": "python3"
  },
  "language_info": {
   "codemirror_mode": {
    "name": "ipython",
    "version": 2
   },
   "file_extension": ".py",
   "mimetype": "text/x-python",
   "name": "python",
   "nbconvert_exporter": "python",
   "pygments_lexer": "ipython2",
   "version": "2.7.6"
  }
 },
 "nbformat": 4,
 "nbformat_minor": 0
}